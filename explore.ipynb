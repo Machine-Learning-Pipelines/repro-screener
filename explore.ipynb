{
 "cells": [
  {
   "cell_type": "code",
   "execution_count": 3,
   "metadata": {},
   "outputs": [],
   "source": [
    "import pandas as pd\n",
    "path_corpus = './case-studies/arxiv-corpus/mine50/'"
   ]
  },
  {
   "cell_type": "code",
   "execution_count": 7,
   "metadata": {},
   "outputs": [],
   "source": [
    "reproscreener_eval = pd.read_csv(path_corpus + 'output/reproscreener_eval.csv', dtype=object)\n",
    "manual_eval = pd.read_csv(path_corpus + '../manual_eval.csv', dtype=object)\n",
    "scraped_info = pd.read_csv(path_corpus + 'scrape_df_50.csv', dtype=object)"
   ]
  },
  {
   "cell_type": "code",
   "execution_count": 9,
   "metadata": {},
   "outputs": [
    {
     "data": {
      "text/plain": [
       "index                               1\n",
       "id                         1903.09668\n",
       "problem                           1.0\n",
       "objective                         1.0\n",
       "research_method                   1.0\n",
       "research_questions                1.0\n",
       "pseudocode                        1.0\n",
       "training_data                     1.0\n",
       "validation_data                   0.0\n",
       "test_data                         0.0\n",
       "results                           0.0\n",
       "hypothesis                        0.0\n",
       "prediction                        1.0\n",
       "method_source_code                0.0\n",
       "hardware_specifications           0.0\n",
       "software_dependencies             0.0\n",
       "experiment_setup                  0.0\n",
       "experiment_source_code            0.0\n",
       "affiliation                       0.0\n",
       "Name: 1, dtype: object"
      ]
     },
     "execution_count": 9,
     "metadata": {},
     "output_type": "execute_result"
    }
   ],
   "source": [
    "reproscreener_eval.iloc[1]"
   ]
  },
  {
   "cell_type": "code",
   "execution_count": 10,
   "metadata": {},
   "outputs": [
    {
     "data": {
      "text/plain": [
       "index                                                         1\n",
       "id                                                   1903.09668\n",
       "title              data augmentation for bayesian deep learning\n",
       "categories                                stat.ml cs.lg stat.me\n",
       "abstract      deep learning (dl) methods have emerged as one...\n",
       "doi                                           10.1214/22-ba1331\n",
       "created                                              2019-03-22\n",
       "updated                                              2022-10-24\n",
       "authors       ['yuexi wang', 'nicholas g. polson', 'vadim o....\n",
       "Name: 1, dtype: object"
      ]
     },
     "execution_count": 10,
     "metadata": {},
     "output_type": "execute_result"
    }
   ],
   "source": [
    "scraped_info.iloc[1]"
   ]
  },
  {
   "cell_type": "code",
   "execution_count": 36,
   "metadata": {},
   "outputs": [
    {
     "name": "stdout",
     "output_type": "stream",
     "text": [
      "problem : 0.94\n",
      "objective : 0.8\n",
      "research_method : 0.88\n",
      "research_questions : 0.84\n",
      "pseudocode : 0.5\n",
      "training_data : 0.36\n",
      "validation_data : 0.02\n",
      "test_data : 0.12\n",
      "results : 0.0\n",
      "hypothesis : 0.42\n",
      "prediction : 0.68\n",
      "method_source_code : 0.3\n",
      "hardware_specifications : 0.0\n",
      "software_dependencies : 0.0\n",
      "experiment_setup : 0.36\n",
      "experiment_source_code : 0.0\n",
      "affiliation : 0.3\n"
     ]
    }
   ],
   "source": [
    "gunderson_vars = [\"problem\",\"objective\",\"research_method\",\"research_questions\",\"pseudocode\",\"training_data\",\"validation_data\",\"test_data\",\"results\",\"hypothesis\",\"prediction\",\"method_source_code\",\"hardware_specifications\",\"software_dependencies\",\"experiment_setup\",\"experiment_source_code\",\"affiliation\"]\n",
    "\n",
    "# fraction of papers with problem\n",
    "sum(reproscreener_eval.problem.values=='1.0')/len(reproscreener_eval)\n",
    "# fraction of papers with objective\n",
    "sum(reproscreener_eval.objective.values=='1.0')/len(reproscreener_eval)\n",
    "\n",
    "\n",
    "for var in gunderson_vars:\n",
    "    fraction = sum(reproscreener_eval[var].values=='1.0')/len(reproscreener_eval)\n",
    "    print(var, \":\", fraction)\n",
    "## TODO results and experiment_source_code not implemented yet"
   ]
  }
 ],
 "metadata": {
  "kernelspec": {
   "display_name": "Python 3.9.13 ('repro-screener')",
   "language": "python",
   "name": "python3"
  },
  "language_info": {
   "codemirror_mode": {
    "name": "ipython",
    "version": 3
   },
   "file_extension": ".py",
   "mimetype": "text/x-python",
   "name": "python",
   "nbconvert_exporter": "python",
   "pygments_lexer": "ipython3",
   "version": "3.9.13"
  },
  "orig_nbformat": 4,
  "vscode": {
   "interpreter": {
    "hash": "2ef7bd637a04a5d7a6fd51255ab6474ba71b7fc9b9b532a3f98eb6b921c14e24"
   }
  }
 },
 "nbformat": 4,
 "nbformat_minor": 2
}
