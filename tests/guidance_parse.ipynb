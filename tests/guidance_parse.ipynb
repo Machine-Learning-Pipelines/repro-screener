{
 "cells": [
  {
   "cell_type": "code",
   "execution_count": 1,
   "metadata": {},
   "outputs": [],
   "source": [
    "import json\n",
    "with open(\"../guidance/gunderson-2018-revised/main.json\", \"r\") as read_file:\n",
    "    data = json.load(read_file)"
   ]
  },
  {
   "cell_type": "code",
   "execution_count": 2,
   "metadata": {},
   "outputs": [
    {
     "name": "stdout",
     "output_type": "stream",
     "text": [
      "Method 5\n",
      "['Problem', 'Objective', 'Research Method', 'Research questions', 'Pseudocode']\n",
      "Data 4\n",
      "['Training data', 'Validation data', 'Test data', 'Results']\n",
      "Experiment 7\n",
      "['Hypothesis', 'Prediction', 'Method source code', 'Hardware specifications', 'Software dependencies', 'Experiment setup', 'Experiment source code']\n",
      "Miscellaneous 1\n",
      "['Affiliation']\n"
     ]
    }
   ],
   "source": [
    "for factor in data['factors']:\n",
    "    print(factor['name'], len(factor['variables']))\n",
    "    print([var['name'] for var in factor['variables']])"
   ]
  }
 ],
 "metadata": {
  "kernelspec": {
   "display_name": "Python 3.9.13 64-bit ('repro-poetry')",
   "language": "python",
   "name": "python3"
  },
  "language_info": {
   "codemirror_mode": {
    "name": "ipython",
    "version": 3
   },
   "file_extension": ".py",
   "mimetype": "text/x-python",
   "name": "python",
   "nbconvert_exporter": "python",
   "pygments_lexer": "ipython3",
   "version": "3.9.13"
  },
  "orig_nbformat": 4,
  "vscode": {
   "interpreter": {
    "hash": "2fa3c24ad859e823c53a6fd66d5b07ffed58de1474dcab39621eae0c7968ad33"
   }
  }
 },
 "nbformat": 4,
 "nbformat_minor": 2
}
