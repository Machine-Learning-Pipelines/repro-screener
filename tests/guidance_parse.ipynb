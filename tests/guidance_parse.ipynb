{
 "cells": [
  {
   "cell_type": "code",
   "execution_count": 4,
   "metadata": {},
   "outputs": [
    {
     "name": "stdout",
     "output_type": "stream",
     "text": [
      "<root>\n",
      "  <heading>\n",
      "    <inline>\n",
      "      <text>\n",
      "        Header\n",
      "  <paragraph>\n",
      "    <inline>\n",
      "      <text>\n",
      "        Here's some text and an image \n",
      "      <image src='image.png' alt=''>\n",
      "        <text>\n",
      "          title\n",
      "  <ordered_list>\n",
      "    <list_item>\n",
      "      <paragraph>\n",
      "        <inline>\n",
      "          <text>\n",
      "            a \n",
      "          <strong>\n",
      "            <text>\n",
      "              list\n",
      "          <text>\n",
      "  <blockquote>\n",
      "    <paragraph>\n",
      "      <inline>\n",
      "        <text>\n",
      "          a \n",
      "        <em>\n",
      "          <text>\n",
      "            quote\n"
     ]
    }
   ],
   "source": [
    "from markdown_it import MarkdownIt\n",
    "from markdown_it.tree import SyntaxTreeNode\n",
    "\n",
    "md = MarkdownIt(\"commonmark\")\n",
    "tokens = md.parse(\"\"\"\n",
    "# Header\n",
    "\n",
    "Here's some text and an image ![title](image.png)\n",
    "\n",
    "1. a **list**\n",
    "\n",
    "> a *quote*\n",
    "\"\"\")\n",
    "\n",
    "node = SyntaxTreeNode(tokens)\n",
    "print(node.pretty(indent=2, show_text=True))"
   ]
  },
  {
   "cell_type": "code",
   "execution_count": 18,
   "metadata": {},
   "outputs": [],
   "source": [
    "import json\n",
    "with open(\"test1.json\", \"r\") as read_file:\n",
    "    data = json.load(read_file)"
   ]
  },
  {
   "cell_type": "code",
   "execution_count": 23,
   "metadata": {},
   "outputs": [
    {
     "name": "stdout",
     "output_type": "stream",
     "text": [
      "Method 5\n",
      "['Problem', 'Objective', 'Research Method', 'Research questions', 'Pseudocode']\n",
      "Data 4\n",
      "['Training data', 'Validation data', 'Test data', 'Results']\n",
      "Experiment 7\n",
      "['Hypothesis', 'Prediction', 'Method source code', 'Hardware specifications', 'Software dependencies', 'Experiment setup', 'Experiment source code']\n",
      "Miscellaneous 1\n",
      "['Affiliation']\n"
     ]
    }
   ],
   "source": [
    "for factor in data['factors']:\n",
    "    print(factor['name'], len(factor['variables']))\n",
    "    print([var['name'] for var in factor['variables']])"
   ]
  }
 ],
 "metadata": {
  "kernelspec": {
   "display_name": "Python 3.9.13 ('repro-poetry')",
   "language": "python",
   "name": "python3"
  },
  "language_info": {
   "codemirror_mode": {
    "name": "ipython",
    "version": 3
   },
   "file_extension": ".py",
   "mimetype": "text/x-python",
   "name": "python",
   "nbconvert_exporter": "python",
   "pygments_lexer": "ipython3",
   "version": "3.9.13"
  },
  "orig_nbformat": 4,
  "vscode": {
   "interpreter": {
    "hash": "ff14a36322a96a704bd215e1441f8d410611ad6160f0a45e9a6a9469fa78d842"
   }
  }
 },
 "nbformat": 4,
 "nbformat_minor": 2
}
