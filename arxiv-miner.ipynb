{
 "cells": [
  {
   "cell_type": "code",
   "execution_count": 5,
   "metadata": {},
   "outputs": [
    {
     "ename": "SyntaxError",
     "evalue": "invalid syntax (3297212143.py, line 1)",
     "output_type": "error",
     "traceback": [
      "\u001b[1;36m  Input \u001b[1;32mIn [5]\u001b[1;36m\u001b[0m\n\u001b[1;33m    pip install arxiv-miner\u001b[0m\n\u001b[1;37m        ^\u001b[0m\n\u001b[1;31mSyntaxError\u001b[0m\u001b[1;31m:\u001b[0m invalid syntax\n"
     ]
    }
   ],
   "source": [
    "pip install arxiv-miner"
   ]
  },
  {
   "cell_type": "code",
   "execution_count": 6,
   "metadata": {},
   "outputs": [
    {
     "name": "stdout",
     "output_type": "stream",
     "text": [
      "Defaulting to user installation because normal site-packages is not writeable\n",
      "Collecting rpyc\n",
      "  Downloading rpyc-5.2.3-py3-none-any.whl (71 kB)\n",
      "Collecting plumbum\n",
      "  Downloading plumbum-1.7.2-py2.py3-none-any.whl (117 kB)\n",
      "Requirement already satisfied: pywin32 in c:\\users\\adb\\appdata\\roaming\\python\\python39\\site-packages (from plumbum->rpyc) (303)\n",
      "Installing collected packages: plumbum, rpyc\n",
      "Successfully installed plumbum-1.7.2 rpyc-5.2.3\n",
      "Note: you may need to restart the kernel to use updated packages.\n"
     ]
    },
    {
     "name": "stderr",
     "output_type": "stream",
     "text": [
      "  WARNING: The scripts rpyc_classic.exe and rpyc_registry.exe are installed in 'C:\\Users\\adb\\AppData\\Roaming\\Python\\Python39\\Scripts' which is not on PATH.\n",
      "  Consider adding this directory to PATH or, if you prefer to suppress this warning, use --no-warn-script-location.\n",
      "WARNING: You are using pip version 21.2.3; however, version 22.2.2 is available.\n",
      "You should consider upgrading via the 'c:\\Program Files\\Python39\\python.exe -m pip install --upgrade pip' command.\n"
     ]
    }
   ],
   "source": [
    "pip install rpyc"
   ]
  },
  {
   "cell_type": "code",
   "execution_count": 7,
   "metadata": {},
   "outputs": [
    {
     "name": "stdout",
     "output_type": "stream",
     "text": [
      "No CSO Classifier Present\n"
     ]
    },
    {
     "ename": "ElasticsearchIndexMissingException",
     "evalue": "Index To Elasticsearch Cannot Be None",
     "output_type": "error",
     "traceback": [
      "\u001b[1;31m---------------------------------------------------------------------------\u001b[0m",
      "\u001b[1;31mElasticsearchIndexMissingException\u001b[0m        Traceback (most recent call last)",
      "\u001b[1;32mg:\\gitclones\\repro_screener\\arxiv-miner.ipynb Cell 3\u001b[0m in \u001b[0;36m<cell line: 8>\u001b[1;34m()\u001b[0m\n\u001b[0;32m      <a href='vscode-notebook-cell:/g%3A/gitclones/repro_screener/arxiv-miner.ipynb#W1sZmlsZQ%3D%3D?line=0'>1</a>\u001b[0m \u001b[39mfrom\u001b[39;00m \u001b[39marxiv_miner\u001b[39;00m \u001b[39mimport\u001b[39;00m KeywordsTextSearch,TextSearchFilter\n\u001b[0;32m      <a href='vscode-notebook-cell:/g%3A/gitclones/repro_screener/arxiv-miner.ipynb#W1sZmlsZQ%3D%3D?line=1'>2</a>\u001b[0m ELASTICARGS\u001b[39m=\u001b[39m \u001b[39mdict\u001b[39m(\n\u001b[0;32m      <a href='vscode-notebook-cell:/g%3A/gitclones/repro_screener/arxiv-miner.ipynb#W1sZmlsZQ%3D%3D?line=2'>3</a>\u001b[0m     index_name\u001b[39m=\u001b[39m\u001b[39mNone\u001b[39;00m,\n\u001b[0;32m      <a href='vscode-notebook-cell:/g%3A/gitclones/repro_screener/arxiv-miner.ipynb#W1sZmlsZQ%3D%3D?line=3'>4</a>\u001b[0m     host\u001b[39m=\u001b[39m\u001b[39m'\u001b[39m\u001b[39mlocalhost\u001b[39m\u001b[39m'\u001b[39m,\n\u001b[0;32m      <a href='vscode-notebook-cell:/g%3A/gitclones/repro_screener/arxiv-miner.ipynb#W1sZmlsZQ%3D%3D?line=4'>5</a>\u001b[0m     port\u001b[39m=\u001b[39m\u001b[39m9200\u001b[39m,\n\u001b[0;32m      <a href='vscode-notebook-cell:/g%3A/gitclones/repro_screener/arxiv-miner.ipynb#W1sZmlsZQ%3D%3D?line=5'>6</a>\u001b[0m     auth\u001b[39m=\u001b[39m\u001b[39mNone\u001b[39;00m\n\u001b[0;32m      <a href='vscode-notebook-cell:/g%3A/gitclones/repro_screener/arxiv-miner.ipynb#W1sZmlsZQ%3D%3D?line=6'>7</a>\u001b[0m )\n\u001b[1;32m----> <a href='vscode-notebook-cell:/g%3A/gitclones/repro_screener/arxiv-miner.ipynb#W1sZmlsZQ%3D%3D?line=7'>8</a>\u001b[0m database \u001b[39m=\u001b[39m KeywordsTextSearch(\u001b[39m*\u001b[39m\u001b[39m*\u001b[39mELASTICARGS)\n\u001b[0;32m      <a href='vscode-notebook-cell:/g%3A/gitclones/repro_screener/arxiv-miner.ipynb#W1sZmlsZQ%3D%3D?line=8'>9</a>\u001b[0m \u001b[39m# Pagination Style retrieval\u001b[39;00m\n\u001b[0;32m     <a href='vscode-notebook-cell:/g%3A/gitclones/repro_screener/arxiv-miner.ipynb#W1sZmlsZQ%3D%3D?line=9'>10</a>\u001b[0m text_filter \u001b[39m=\u001b[39m TextSearchFilter(\n\u001b[0;32m     <a href='vscode-notebook-cell:/g%3A/gitclones/repro_screener/arxiv-miner.ipynb#W1sZmlsZQ%3D%3D?line=10'>11</a>\u001b[0m     string_match_query\u001b[39m=\u001b[39m\u001b[39m\"\u001b[39m\u001b[39mout of distribution generalization\u001b[39m\u001b[39m\"\u001b[39m,\n\u001b[0;32m     <a href='vscode-notebook-cell:/g%3A/gitclones/repro_screener/arxiv-miner.ipynb#W1sZmlsZQ%3D%3D?line=11'>12</a>\u001b[0m     start_date_key\u001b[39m=\u001b[39m\u001b[39m'\u001b[39m\u001b[39m04/04/2015\u001b[39m\u001b[39m'\u001b[39m,\n\u001b[0;32m     <a href='vscode-notebook-cell:/g%3A/gitclones/repro_screener/arxiv-miner.ipynb#W1sZmlsZQ%3D%3D?line=12'>13</a>\u001b[0m     end_date_key \u001b[39m=\u001b[39m \u001b[39m'\u001b[39m\u001b[39m04/04/2021\u001b[39m\u001b[39m'\u001b[39m,\n\u001b[0;32m     <a href='vscode-notebook-cell:/g%3A/gitclones/repro_screener/arxiv-miner.ipynb#W1sZmlsZQ%3D%3D?line=13'>14</a>\u001b[0m     page_size\u001b[39m=\u001b[39m\u001b[39m100\u001b[39m,\n\u001b[0;32m     <a href='vscode-notebook-cell:/g%3A/gitclones/repro_screener/arxiv-miner.ipynb#W1sZmlsZQ%3D%3D?line=14'>15</a>\u001b[0m )\n",
      "File \u001b[1;32m~\\AppData\\Roaming\\Python\\Python39\\site-packages\\arxiv_miner\\database\\elasticsearch.py:815\u001b[0m, in \u001b[0;36mKeywordsTextSearch.__init__\u001b[1;34m(self, **kwargs)\u001b[0m\n\u001b[0;32m    814\u001b[0m \u001b[39mdef\u001b[39;00m \u001b[39m__init__\u001b[39m(\u001b[39mself\u001b[39m, \u001b[39m*\u001b[39m\u001b[39m*\u001b[39mkwargs):\n\u001b[1;32m--> 815\u001b[0m     \u001b[39msuper\u001b[39m()\u001b[39m.\u001b[39m\u001b[39m__init__\u001b[39m(\u001b[39m*\u001b[39m\u001b[39m*\u001b[39mkwargs)\n\u001b[0;32m    816\u001b[0m     \u001b[39mself\u001b[39m\u001b[39m.\u001b[39mauthors_index \u001b[39m=\u001b[39m \u001b[39mself\u001b[39m\u001b[39m.\u001b[39mindex_name\u001b[39m+\u001b[39m\u001b[39m\"\u001b[39m\u001b[39m_authors\u001b[39m\u001b[39m\"\u001b[39m\n\u001b[0;32m    817\u001b[0m     \u001b[39mself\u001b[39m\u001b[39m.\u001b[39montology_index \u001b[39m=\u001b[39m \u001b[39mself\u001b[39m\u001b[39m.\u001b[39mindex_name\u001b[39m+\u001b[39m\u001b[39m\"\u001b[39m\u001b[39m_ontology\u001b[39m\u001b[39m\"\u001b[39m\n",
      "File \u001b[1;32m~\\AppData\\Roaming\\Python\\Python39\\site-packages\\arxiv_miner\\database\\elasticsearch.py:721\u001b[0m, in \u001b[0;36mArxivElasticTextSearch.__init__\u001b[1;34m(self, **kwargs)\u001b[0m\n\u001b[0;32m    720\u001b[0m \u001b[39mdef\u001b[39;00m \u001b[39m__init__\u001b[39m(\u001b[39mself\u001b[39m,\u001b[39m*\u001b[39m\u001b[39m*\u001b[39mkwargs):\n\u001b[1;32m--> 721\u001b[0m     \u001b[39msuper\u001b[39m()\u001b[39m.\u001b[39m\u001b[39m__init__\u001b[39m(\u001b[39m*\u001b[39m\u001b[39m*\u001b[39mkwargs)\n",
      "File \u001b[1;32m~\\AppData\\Roaming\\Python\\Python39\\site-packages\\arxiv_miner\\database\\elasticsearch.py:51\u001b[0m, in \u001b[0;36mArxivElasticSeachDatabaseClient.__init__\u001b[1;34m(self, index_name, host, port, auth)\u001b[0m\n\u001b[0;32m     49\u001b[0m \u001b[39mdef\u001b[39;00m \u001b[39m__init__\u001b[39m(\u001b[39mself\u001b[39m,index_name\u001b[39m=\u001b[39m\u001b[39mNone\u001b[39;00m,host\u001b[39m=\u001b[39m\u001b[39m'\u001b[39m\u001b[39mlocalhost\u001b[39m\u001b[39m'\u001b[39m,port\u001b[39m=\u001b[39m\u001b[39m9200\u001b[39m,auth\u001b[39m=\u001b[39m\u001b[39mNone\u001b[39;00m):\n\u001b[0;32m     50\u001b[0m     \u001b[39mif\u001b[39;00m index_name \u001b[39m==\u001b[39m \u001b[39mNone\u001b[39;00m:\n\u001b[1;32m---> 51\u001b[0m         \u001b[39mraise\u001b[39;00m ElasticsearchIndexMissingException()\n\u001b[0;32m     52\u001b[0m     \u001b[39mself\u001b[39m\u001b[39m.\u001b[39mindex_name \u001b[39m=\u001b[39m index_name\n\u001b[0;32m     53\u001b[0m     \u001b[39mself\u001b[39m\u001b[39m.\u001b[39mstatus_index_name \u001b[39m=\u001b[39m index_name\u001b[39m+\u001b[39m\u001b[39m'\u001b[39m\u001b[39m_status\u001b[39m\u001b[39m'\u001b[39m\n",
      "\u001b[1;31mElasticsearchIndexMissingException\u001b[0m: Index To Elasticsearch Cannot Be None"
     ]
    }
   ],
   "source": [
    "from arxiv_miner import KeywordsTextSearch,TextSearchFilter\n",
    "ELASTICARGS= dict(\n",
    "    index_name=None,\n",
    "    host='localhost',\n",
    "    port=9200,\n",
    "    auth=None\n",
    ")\n",
    "database = KeywordsTextSearch(**ELASTICARGS)\n",
    "# Pagination Style retrieval\n",
    "text_filter = TextSearchFilter(\n",
    "    string_match_query=\"out of distribution generalization\",\n",
    "    start_date_key='04/04/2015',\n",
    "    end_date_key = '04/04/2021',\n",
    "    page_size=100,\n",
    ")\n",
    "paginated_search_results = database.text_search(text_filter)\n",
    "# Iterator style retrieval.\n",
    "scan_text_filter = TextSearchFilter(\n",
    "    string_match_query=\"out of distribution generalization\",\n",
    "    start_date_key='04/04/2015',\n",
    "    end_date_key = '04/04/2021',\n",
    "    scan=True\n",
    ")\n",
    "for doc in database.text_search_scan(scan_text_filter):\n",
    "    handlestuff(doc)"
   ]
  }
 ],
 "metadata": {
  "kernelspec": {
   "display_name": "Python 3.9.7 64-bit",
   "language": "python",
   "name": "python3"
  },
  "language_info": {
   "codemirror_mode": {
    "name": "ipython",
    "version": 3
   },
   "file_extension": ".py",
   "mimetype": "text/x-python",
   "name": "python",
   "nbconvert_exporter": "python",
   "pygments_lexer": "ipython3",
   "version": "3.9.7"
  },
  "orig_nbformat": 4,
  "vscode": {
   "interpreter": {
    "hash": "11938c6bc6919ae2720b4d5011047913343b08a43b18698fd82dedb0d4417594"
   }
  }
 },
 "nbformat": 4,
 "nbformat_minor": 2
}
